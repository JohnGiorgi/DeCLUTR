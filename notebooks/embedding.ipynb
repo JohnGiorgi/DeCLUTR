{
 "cells": [
  {
   "cell_type": "markdown",
   "metadata": {
    "colab_type": "text",
    "id": "view-in-github"
   },
   "source": [
    "<a href=\"https://colab.research.google.com/github/JohnGiorgi/DeCLUTR/blob/master/notebooks/embedding.ipynb\" target=\"_parent\"><img src=\"https://colab.research.google.com/assets/colab-badge.svg\" alt=\"Open In Colab\"/></a>"
   ]
  },
  {
   "cell_type": "markdown",
   "metadata": {
    "id": "Q1r5eABrxC3z",
    "tags": []
   },
   "source": [
    "# Embedding text with an existing model\n",
    "\n",
    "This notebook will walk you through embedding some text with a pretrained model using [DeCLUTR](https://github.com/JohnGiorgi/DeCLUTR). You can embed text in one of four ways:\n",
    "\n",
    "1. __SentenceTransformers__: load our pretrained models with the [SentenceTransformers](https://www.sbert.net/) library (_recommended_).\n",
    "2. __🤗 Transformers__: load our pretrained models with the [🤗 Transformers library](https://github.com/huggingface/transformers).\n",
    "3. __From this repo__: import and initialize an object from this repo which can be used to embed sentences/paragraphs.\n",
    "4. __Bulk embed__: embed all text in a given text file with a simple command-line interface.\n",
    "\n",
    "The following pre-trained models are available:\n",
    "\n",
    "- [johngiorgi/declutr-small](https://huggingface.co/johngiorgi/declutr-small)\n",
    "- [johngiorgi/declutr-base](https://huggingface.co/johngiorgi/declutr-base)\n",
    "- [johngiorgi/declutr-sci-base](https://huggingface.co/johngiorgi/declutr-sci-base)\n",
    "\n",
    "Each approach has advantages and disadvantages:\n",
    "\n",
    "1. __SentenceTransformers__: This is the easiest way to use DeCLUTR, but it requires that you [install the SentenceTransformers library](https://www.sbert.net/docs/installation.html) first.\n",
    "2. __🤗 Transformers__: This only requires you to install the [🤗 Transformers library](https://github.com/huggingface/transformers), but requires more boilerplate code.\n",
    "3. __From this repo__: This is the easiest way to use your own models trained with [our repo](https://github.com/JohnGiorgi/DeCLUTR), but requires you to [install DeCLUTR](https://github.com/JohnGiorgi/DeCLUTR#installation).\n",
    "4. __Bulk embed__: This might be suitable if you want to embed large quantities of text \"offline\" (e.g. not on-the-fly within an existing pipeline), but requires you to [install DeCLUTR](https://github.com/JohnGiorgi/DeCLUTR#installation)."
   ]
  },
  {
   "cell_type": "markdown",
   "metadata": {
    "id": "ObkQs5cixC30"
   },
   "source": [
    "## 🔧 Prerequisites"
   ]
  },
  {
   "cell_type": "markdown",
   "metadata": {
    "id": "iV_jB7IZxC4d"
   },
   "source": [
    "Finally, let's check to see if we have a GPU available, which we can use to dramatically speed up the embedding of text"
   ]
  },
  {
   "cell_type": "code",
   "execution_count": null,
   "metadata": {
    "id": "f5jfZhdRxC4e"
   },
   "outputs": [],
   "source": [
    "import torch\n",
    "\n",
    "device = torch.device(\"cuda\" if torch.cuda.is_available() else \"cpu\")\n",
    "print(f\"Using device: {device}\")"
   ]
  },
  {
   "cell_type": "markdown",
   "metadata": {},
   "source": [
    "## 1️⃣ SentenceTransformers\n",
    "\n",
    "Our pretrained models are hosted with Hugging Face Transformers, so they can easily be loaded in SentenceTransformers. Just make sure to [install the SentenceTransformers library](https://www.sbert.net/docs/installation.html) first:"
   ]
  },
  {
   "cell_type": "code",
   "execution_count": null,
   "metadata": {
    "tags": []
   },
   "outputs": [],
   "source": [
    "!pip install -U sentence-transformers"
   ]
  },
  {
   "cell_type": "markdown",
   "metadata": {},
   "source": [
    "Here is a simple example using [DeCLUTR-small](https://huggingface.co/johngiorgi/declutr-small):"
   ]
  },
  {
   "cell_type": "code",
   "execution_count": null,
   "metadata": {},
   "outputs": [],
   "source": [
    "from sentence_transformers import SentenceTransformer\n",
    "\n",
    "# Load the model\n",
    "model = SentenceTransformer(\"johngiorgi/declutr-small\", device=device)\n",
    "\n",
    "# Prepare some text to embed\n",
    "texts = [\n",
    "    \"A smiling costumed woman is holding an umbrella.\",\n",
    "    \"A happy woman in a fairy costume holds an umbrella.\",\n",
    "    \"A soccer game with multiple males playing.\",\n",
    "    \"Some men are playing a sport.\",\n",
    "]\n",
    "\n",
    "# Embed the text\n",
    "embeddings = model.encode(texts)"
   ]
  },
  {
   "cell_type": "markdown",
   "metadata": {
    "id": "Wjg7fRX4xC4s"
   },
   "source": [
    "These embeddings can then be used, for example, to compute the semantic similarity between some number of sentences or paragraphs."
   ]
  },
  {
   "cell_type": "code",
   "execution_count": 5,
   "metadata": {
    "id": "DvZ3ciiqVXBL",
    "tags": []
   },
   "outputs": [
    {
     "name": "stdout",
     "output_type": "stream",
     "text": [
      "0.8356759548187256\n"
     ]
    }
   ],
   "source": [
    "from scipy.spatial.distance import cosine\n",
    "\n",
    "# Compute a semantic similarity via the cosine distance\n",
    "semantic_sim = 1 - cosine(embeddings[0], embeddings[1])\n",
    "print(semantic_sim)"
   ]
  },
  {
   "cell_type": "markdown",
   "metadata": {
    "id": "E-mdfiUzVte-"
   },
   "source": [
    "Mainly for fun, the following cells visualize the semantic similarity with a heatmap!"
   ]
  },
  {
   "cell_type": "code",
   "execution_count": 6,
   "metadata": {
    "id": "xsE487dgxC4t"
   },
   "outputs": [],
   "source": [
    "from typing import List\n",
    "\n",
    "import numpy as np\n",
    "import pandas as pd\n",
    "import seaborn as sns\n",
    "\n",
    "def plot_heatmap(text: List[str], embeddings: np.ndarray) -> None:\n",
    "    embeddings = torch.as_tensor(embeddings)\n",
    "    cosine = torch.nn.CosineSimilarity(-1)\n",
    "    similarity_matrix = []\n",
    "    for _, embedding in enumerate(embeddings):\n",
    "        similarity_vector = cosine(embedding, embeddings)\n",
    "        similarity_vector = similarity_vector.numpy()\n",
    "        similarity_matrix.append(similarity_vector)\n",
    "    df = pd.DataFrame(similarity_matrix)\n",
    "    df.columns = df.index = text\n",
    "    sns.heatmap(df, cmap=\"YlOrRd\")"
   ]
  },
  {
   "cell_type": "code",
   "execution_count": 7,
   "metadata": {
    "id": "PSc4u6XbUgPD"
   },
   "outputs": [
    {
     "data": {
      "image/png": "[encoded data removed]",
      "text/plain": [
       "<Figure size 432x288 with 2 Axes>"
      ]
     },
     "metadata": {
      "needs_background": "light"
     },
     "output_type": "display_data"
    }
   ],
   "source": [
    "plot_heatmap(texts, embeddings)"
   ]
  },
  {
   "cell_type": "markdown",
   "metadata": {
    "id": "r9NudDYNxC46"
   },
   "source": [
    "## 2️⃣ 🤗 Transformers\n",
    "\n",
    "Alternatively, you can use the models straight from Hugging Face Transformers. This just requires a few extra steps. Just make sure to [install the Transformers library](https://huggingface.co/docs/transformers/installation) first:"
   ]
  },
  {
   "cell_type": "code",
   "execution_count": null,
   "metadata": {
    "tags": []
   },
   "outputs": [],
   "source": [
    "!pip install -U transformers"
   ]
  },
  {
   "cell_type": "markdown",
   "metadata": {},
   "source": [
    "Here is a simple example using [DeCLUTR-small](https://huggingface.co/johngiorgi/declutr-small):"
   ]
  },
  {
   "cell_type": "code",
   "execution_count": null,
   "metadata": {
    "id": "6a4Ymv39xC47"
   },
   "outputs": [],
   "source": [
    "import torch\n",
    "from transformers import AutoModel, AutoTokenizer\n",
    "\n",
    "# Load the model\n",
    "tokenizer = AutoTokenizer.from_pretrained(\"johngiorgi/declutr-small\")\n",
    "model = AutoModel.from_pretrained(\"johngiorgi/declutr-small\")\n",
    "model = model.to(device)\n",
    "\n",
    "# Prepare some text to embed\n",
    "text = [\n",
    "    \"A smiling costumed woman is holding an umbrella.\",\n",
    "    \"A happy woman in a fairy costume holds an umbrella.\",\n",
    "    \"A soccer game with multiple males playing.\",\n",
    "    \"Some men are playing a sport.\",\n",
    "]\n",
    "inputs = tokenizer(text, padding=True, truncation=True, return_tensors=\"pt\")\n",
    "# Put the tensors on the GPU, if available\n",
    "for name, tensor in inputs.items():\n",
    "    inputs[name] = tensor.to(device)\n",
    "\n",
    "# Embed the text\n",
    "with torch.no_grad():\n",
    "    sequence_output = model(**inputs)[0]\n",
    "\n",
    "# Mean pool the token-level embeddings to get sentence-level embeddings\n",
    "embeddings = torch.sum(\n",
    "    sequence_output * inputs[\"attention_mask\"].unsqueeze(-1), dim=1\n",
    ") / torch.clamp(torch.sum(inputs[\"attention_mask\"], dim=1, keepdims=True), min=1e-9)\n",
    "embeddings = embeddings.cpu()"
   ]
  },
  {
   "cell_type": "markdown",
   "metadata": {},
   "source": [
    "Let's compute the same cosine similarity as before as a sanity check"
   ]
  },
  {
   "cell_type": "code",
   "execution_count": 9,
   "metadata": {},
   "outputs": [
    {
     "name": "stdout",
     "output_type": "stream",
     "text": [
      "0.835675835609436\n"
     ]
    }
   ],
   "source": [
    "from scipy.spatial.distance import cosine\n",
    "\n",
    "# Compute a semantic similarity via the cosine distance\n",
    "semantic_sim = 1 - cosine(embeddings[0], embeddings[1])\n",
    "print(semantic_sim)"
   ]
  },
  {
   "cell_type": "markdown",
   "metadata": {
    "id": "fSVlxjYexC4k"
   },
   "source": [
    "## 3️⃣ From this repo\n",
    "\n",
    "To use the model directly from this repo, import `Encoder` and pass it some text (it accepts both strings and lists of strings). Just remember to [install the DeCLUTR library](https://github.com/JohnGiorgi/DeCLUTR) first:"
   ]
  },
  {
   "cell_type": "code",
   "execution_count": null,
   "metadata": {},
   "outputs": [],
   "source": [
    "!pip install -U \"git+https://github.com/JohnGiorgi/DeCLUTR.git\""
   ]
  },
  {
   "cell_type": "markdown",
   "metadata": {},
   "source": [
    "Here is a simple example using [DeCLUTR-small](https://huggingface.co/johngiorgi/declutr-small):"
   ]
  },
  {
   "cell_type": "code",
   "execution_count": null,
   "metadata": {
    "id": "Q8pG_xeZxC4m"
   },
   "outputs": [],
   "source": [
    "from declutr import Encoder\n",
    "\n",
    "# This can be a path on disk to a model you have trained yourself OR\n",
    "# the name of one of our pretrained models.\n",
    "pretrained_model_or_path = \"declutr-small\"\n",
    "\n",
    "# Prepare some text to embed\n",
    "text = [\n",
    "    \"A smiling costumed woman is holding an umbrella.\",\n",
    "    \"A happy woman in a fairy costume holds an umbrella.\",\n",
    "    \"A soccer game with multiple males playing.\",\n",
    "    \"Some men are playing a sport.\",\n",
    "]\n",
    "\n",
    "# Embed the text\n",
    "cuda_device = torch.cuda.current_device() if torch.cuda.is_available() else -1\n",
    "encoder = Encoder(pretrained_model_or_path, cuda_device=cuda_device)\n",
    "embeddings = encoder(text)"
   ]
  },
  {
   "cell_type": "markdown",
   "metadata": {},
   "source": [
    "Let's compute the same cosine similarity as before as a sanity check"
   ]
  },
  {
   "cell_type": "code",
   "execution_count": 4,
   "metadata": {},
   "outputs": [
    {
     "name": "stdout",
     "output_type": "stream",
     "text": [
      "0.835675835609436\n"
     ]
    }
   ],
   "source": [
    "from scipy.spatial.distance import cosine\n",
    "\n",
    "# Compute a semantic similarity via the cosine distance\n",
    "semantic_sim = 1 - cosine(embeddings[0], embeddings[1])\n",
    "print(semantic_sim)"
   ]
  },
  {
   "cell_type": "markdown",
   "metadata": {
    "id": "PAEXMEQ2xC41"
   },
   "source": [
    "See the list of available `PRETRAINED_MODELS` in [declutr/encoder.py](https://github.com/JohnGiorgi/DeCLUTR/blob/master/declutr/encoder.py)"
   ]
  },
  {
   "cell_type": "code",
   "execution_count": 5,
   "metadata": {
    "id": "2imLEDWDxC42"
   },
   "outputs": [
    {
     "name": "stdout",
     "output_type": "stream",
     "text": [
      "['declutr-small', 'declutr-base']\n"
     ]
    }
   ],
   "source": [
    "from declutr.encoder import PRETRAINED_MODELS ; print(list(PRETRAINED_MODELS.keys()))"
   ]
  },
  {
   "cell_type": "markdown",
   "metadata": {
    "id": "QvpLSGecxC5C"
   },
   "source": [
    "## 4️⃣ Bulk embed a file\n",
    "\n",
    "First, lets save our running example to a file"
   ]
  },
  {
   "cell_type": "code",
   "execution_count": null,
   "metadata": {
    "id": "SG4kpaJGxC5C"
   },
   "outputs": [],
   "source": [
    "text = [\n",
    "    \"A smiling costumed woman is holding an umbrella.\",\n",
    "    \"A happy woman in a fairy costume holds an umbrella.\",\n",
    "    \"A soccer game with multiple males playing.\",\n",
    "    \"Some men are playing a sport.\",\n",
    "]\n",
    "text = \"\\n\".join(text)\n",
    "\n",
    "!echo -e \"$text\" > \"input.txt\""
   ]
  },
  {
   "cell_type": "markdown",
   "metadata": {
    "id": "mOG-sN2SxC5H"
   },
   "source": [
    "We then need a pretrained model to embed the text with. Following our running example, lets use [DeCLUTR-small](https://huggingface.co/johngiorgi/declutr-small)"
   ]
  },
  {
   "cell_type": "code",
   "execution_count": 7,
   "metadata": {
    "id": "0VoqRh7WxC5J"
   },
   "outputs": [],
   "source": [
    "from allennlp.common.file_utils import cached_path\n",
    "from declutr.encoder import PRETRAINED_MODELS\n",
    "\n",
    "# Download the model OR retrieve its filepath if it has already been downloaded & cached.\n",
    "declutr_small_cached_path = cached_path(PRETRAINED_MODELS[\"declutr-small\"])"
   ]
  },
  {
   "cell_type": "markdown",
   "metadata": {
    "id": "eBQfez2axC5O"
   },
   "source": [
    "To embed all text in a given file with a trained model, run the following command"
   ]
  },
  {
   "cell_type": "code",
   "execution_count": null,
   "metadata": {
    "id": "0wNYDQ7-xC5P"
   },
   "outputs": [],
   "source": [
    "# When embedding text with a pretrained model, we do NOT want to sample spans.\n",
    "# We can turn off span sampling by setting the num_anchors attribute to None.\n",
    "overrides = \"{'dataset_reader.num_anchors': null}\"\n",
    "\n",
    "!allennlp predict $declutr_small_cached_path \"input.txt\" \\\n",
    "    --output-file \"embeddings.jsonl\" \\\n",
    "    --batch-size 32 \\\n",
    "    --cuda-device $cuda_device \\\n",
    "    --use-dataset-reader \\\n",
    "    --overrides \"$overrides\" \\\n",
    "    --include-package \"declutr\""
   ]
  },
  {
   "cell_type": "markdown",
   "metadata": {
    "id": "0u23mh0UxC5W"
   },
   "source": [
    "As a sanity check, lets load the embeddings and make sure their cosine similarity is as expected"
   ]
  },
  {
   "cell_type": "code",
   "execution_count": 9,
   "metadata": {
    "id": "NGYcpU3DxC5X"
   },
   "outputs": [],
   "source": [
    "import json\n",
    "\n",
    "with open(\"embeddings.jsonl\", \"r\") as f:\n",
    "    embeddings = []\n",
    "    for line in f:\n",
    "        embeddings.append(json.loads(line)[\"embeddings\"])"
   ]
  },
  {
   "cell_type": "code",
   "execution_count": 10,
   "metadata": {
    "id": "OrsptLBmxC5d"
   },
   "outputs": [
    {
     "name": "stdout",
     "output_type": "stream",
     "text": [
      "0.8356757721781577\n"
     ]
    }
   ],
   "source": [
    "from scipy.spatial.distance import cosine\n",
    "\n",
    "semantic_sim = 1 - cosine(embeddings[0], embeddings[1])\n",
    "print(semantic_sim)"
   ]
  },
  {
   "cell_type": "markdown",
   "metadata": {
    "id": "0mswpdqCxC5i"
   },
   "source": [
    "## ♻️ Conclusion\n",
    "\n",
    "That's it! In this notebook, we covered four ways to embed text with a pretrained model. Please see [our paper](https://arxiv.org/abs/2006.03659) and [repo](https://github.com/JohnGiorgi/DeCLUTR) for more details, and don't hesitate to open an issue if you have any trouble!"
   ]
  }
 ],
 "metadata": {
  "accelerator": "GPU",
  "colab": {
   "collapsed_sections": [],
   "include_colab_link": true,
   "name": "embedding.ipynb",
   "private_outputs": true,
   "provenance": [],
   "toc_visible": true
  },
  "kernelspec": {
   "display_name": "seq2rel",
   "language": "python",
   "name": "seq2rel"
  },
  "language_info": {
   "codemirror_mode": {
    "name": "ipython",
    "version": 3
   },
   "file_extension": ".py",
   "mimetype": "text/x-python",
   "name": "python",
   "nbconvert_exporter": "python",
   "pygments_lexer": "ipython3",
   "version": "3.8.12"
  }
 },
 "nbformat": 4,
 "nbformat_minor": 4
}
